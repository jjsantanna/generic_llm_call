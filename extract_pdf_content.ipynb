{
 "cells": [
  {
   "cell_type": "code",
   "execution_count": null,
   "id": "51bf1d59-15c7-4e6b-b468-227e6785de48",
   "metadata": {},
   "outputs": [],
   "source": [
    "!pip install PyPDF2\n",
    "\n",
    "from PyPDF2 import PdfReader\n",
    "\n",
    "def extract_pdf_content(pdf_file_path):\n",
    "    try:\n",
    "        reader = PdfReader(pdf_file_path)\n",
    "        pdf_content = \"\"\n",
    "\n",
    "        # Extract text from each page\n",
    "        for page in reader.pages:\n",
    "            pdf_content += page.extract_text()\n",
    "\n",
    "        return pdf_content\n",
    "\n",
    "    except Exception as e:\n",
    "        print(f\"An error occurred while processing the PDF: {e}\")\n",
    "        return {'content': '', 'length': 0}"
   ]
  }
 ],
 "metadata": {
  "kernelspec": {
   "display_name": "Python 3 (ipykernel)",
   "language": "python",
   "name": "python3"
  },
  "language_info": {
   "codemirror_mode": {
    "name": "ipython",
    "version": 3
   },
   "file_extension": ".py",
   "mimetype": "text/x-python",
   "name": "python",
   "nbconvert_exporter": "python",
   "pygments_lexer": "ipython3",
   "version": "3.12.4"
  }
 },
 "nbformat": 4,
 "nbformat_minor": 5
}
