{
 "cells": [
  {
   "cell_type": "code",
   "execution_count": null,
   "id": "09537aa3-5747-4625-9a69-708cab73e756",
   "metadata": {},
   "outputs": [],
   "source": [
    "def ollama(model, system_prompt, user_prompt):\n",
    "    import ollama  # https://pypi.org/project/ollama/\n",
    "    import time\n",
    "    import json\n",
    "\n",
    "    try:\n",
    "        # Start interaction with the model\n",
    "        start_time = time.time()\n",
    "\n",
    "        response = ollama.chat(\n",
    "            model=model,\n",
    "            messages=[\n",
    "                {'role': 'system', 'content': system_prompt},\n",
    "                {'role': 'user', 'content': user_prompt}\n",
    "            ],\n",
    "            format='json'\n",
    "        )\n",
    "\n",
    "        execution_time = time.time() - start_time\n",
    "\n",
    "        # Parse and append execution time\n",
    "        response_content = json.loads(response['message']['content'])\n",
    "        response_content['execution_time'] = execution_time\n",
    "\n",
    "        return response_content\n",
    "\n",
    "    except ollama.ResponseError as e:\n",
    "        print('Error:', e.error)\n",
    "        if e.status_code == 404:\n",
    "            ollama.pull(model)\n",
    "            print(\"Re-run this and it will work! We pulled the model for you!\") \n",
    "            return None"
   ]
  },
  {
   "cell_type": "code",
   "execution_count": null,
   "id": "29d875d0-4d92-4b09-ac59-c69f7dc6a3e0",
   "metadata": {},
   "outputs": [],
   "source": [
    "def read_txt_file(file_path):\n",
    "    try:\n",
    "        with open(file_path, 'r') as file:\n",
    "            content = file.read()\n",
    "        return content\n",
    "    except FileNotFoundError:\n",
    "        return f\"The file at {file_path} was not found.\"\n",
    "    except Exception as e:\n",
    "        return f\"An error occurred: {e}\""
   ]
  }
 ],
 "metadata": {
  "kernelspec": {
   "display_name": "Python 3 (ipykernel)",
   "language": "python",
   "name": "python3"
  },
  "language_info": {
   "codemirror_mode": {
    "name": "ipython",
    "version": 3
   },
   "file_extension": ".py",
   "mimetype": "text/x-python",
   "name": "python",
   "nbconvert_exporter": "python",
   "pygments_lexer": "ipython3",
   "version": "3.12.4"
  }
 },
 "nbformat": 4,
 "nbformat_minor": 5
}
