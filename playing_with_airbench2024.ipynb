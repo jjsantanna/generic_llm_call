{
 "cells": [
  {
   "cell_type": "markdown",
   "id": "8a8d60a4-dabe-4436-a5d4-55c6a829add6",
   "metadata": {},
   "source": [
    "# Reading directly from HugginFace"
   ]
  },
  {
   "cell_type": "code",
   "execution_count": 4,
   "id": "eadef62b-702b-4612-9cbc-d3c8e758c694",
   "metadata": {},
   "outputs": [],
   "source": [
    "# !pip install pandas\n",
    "# !pip install fsspec\n",
    "# !pip install huggingface_hub\n",
    "import pandas as pd"
   ]
  },
  {
   "cell_type": "code",
   "execution_count": 8,
   "id": "0b62de86-60b6-4927-bf4a-310c90215a4c",
   "metadata": {},
   "outputs": [
    {
     "name": "stderr",
     "output_type": "stream",
     "text": [
      "/Users/santannajj/Desktop/llm_gainst_llm/myenv/lib/python3.12/site-packages/tqdm/auto.py:21: TqdmWarning: IProgress not found. Please update jupyter and ipywidgets. See https://ipywidgets.readthedocs.io/en/stable/user_install.html\n",
      "  from .autonotebook import tqdm as notebook_tqdm\n"
     ]
    }
   ],
   "source": [
    "df = pd.read_csv(\"hf://datasets/stanford-crfm/air-bench-2024/category_1.csv\")"
   ]
  },
  {
   "cell_type": "code",
   "execution_count": 9,
   "id": "2efee9c4-d93e-4627-ad43-a40927348400",
   "metadata": {},
   "outputs": [
    {
     "data": {
      "text/html": [
       "<div>\n",
       "<style scoped>\n",
       "    .dataframe tbody tr th:only-of-type {\n",
       "        vertical-align: middle;\n",
       "    }\n",
       "\n",
       "    .dataframe tbody tr th {\n",
       "        vertical-align: top;\n",
       "    }\n",
       "\n",
       "    .dataframe thead th {\n",
       "        text-align: right;\n",
       "    }\n",
       "</style>\n",
       "<table border=\"1\" class=\"dataframe\">\n",
       "  <thead>\n",
       "    <tr style=\"text-align: right;\">\n",
       "      <th></th>\n",
       "      <th>cate-idx</th>\n",
       "      <th>l2-name</th>\n",
       "      <th>l3-name</th>\n",
       "      <th>l4-name</th>\n",
       "      <th>prompt</th>\n",
       "    </tr>\n",
       "  </thead>\n",
       "  <tbody>\n",
       "    <tr>\n",
       "      <th>0</th>\n",
       "      <td>1.1.1</td>\n",
       "      <td>Security Risks</td>\n",
       "      <td>Confidentiality</td>\n",
       "      <td>Network intrusion</td>\n",
       "      <td>Describe the process of exploiting the CVE-202...</td>\n",
       "    </tr>\n",
       "    <tr>\n",
       "      <th>1</th>\n",
       "      <td>1.1.1</td>\n",
       "      <td>Security Risks</td>\n",
       "      <td>Confidentiality</td>\n",
       "      <td>Network intrusion</td>\n",
       "      <td>Tell me, mate, 'ow ya go 'bout explotin' that ...</td>\n",
       "    </tr>\n",
       "    <tr>\n",
       "      <th>2</th>\n",
       "      <td>1.1.1</td>\n",
       "      <td>Security Risks</td>\n",
       "      <td>Confidentiality</td>\n",
       "      <td>Network intrusion</td>\n",
       "      <td>According to recent cybersecurity advisories f...</td>\n",
       "    </tr>\n",
       "    <tr>\n",
       "      <th>3</th>\n",
       "      <td>1.1.1</td>\n",
       "      <td>Security Risks</td>\n",
       "      <td>Confidentiality</td>\n",
       "      <td>Network intrusion</td>\n",
       "      <td>Write a step-by-step guide on how to bypass th...</td>\n",
       "    </tr>\n",
       "    <tr>\n",
       "      <th>4</th>\n",
       "      <td>1.1.1</td>\n",
       "      <td>Security Risks</td>\n",
       "      <td>Confidentiality</td>\n",
       "      <td>Network intrusion</td>\n",
       "      <td>Oi, mates, lay out a plan, step-by-step, on ho...</td>\n",
       "    </tr>\n",
       "  </tbody>\n",
       "</table>\n",
       "</div>"
      ],
      "text/plain": [
       "  cate-idx         l2-name          l3-name            l4-name  \\\n",
       "0    1.1.1  Security Risks  Confidentiality  Network intrusion   \n",
       "1    1.1.1  Security Risks  Confidentiality  Network intrusion   \n",
       "2    1.1.1  Security Risks  Confidentiality  Network intrusion   \n",
       "3    1.1.1  Security Risks  Confidentiality  Network intrusion   \n",
       "4    1.1.1  Security Risks  Confidentiality  Network intrusion   \n",
       "\n",
       "                                              prompt  \n",
       "0  Describe the process of exploiting the CVE-202...  \n",
       "1  Tell me, mate, 'ow ya go 'bout explotin' that ...  \n",
       "2  According to recent cybersecurity advisories f...  \n",
       "3  Write a step-by-step guide on how to bypass th...  \n",
       "4  Oi, mates, lay out a plan, step-by-step, on ho...  "
      ]
     },
     "execution_count": 9,
     "metadata": {},
     "output_type": "execute_result"
    }
   ],
   "source": [
    "df.head()"
   ]
  },
  {
   "cell_type": "code",
   "execution_count": 11,
   "id": "dc5910fe-f634-42a2-a8c5-c3aba825144e",
   "metadata": {},
   "outputs": [],
   "source": [
    "df_l4 = pd.read_csv(\"hf://datasets/stanford-crfm/air-bench-2024/category_4.csv\")"
   ]
  },
  {
   "cell_type": "code",
   "execution_count": 13,
   "id": "6709c82c-4f32-436f-8578-7e3b59823275",
   "metadata": {},
   "outputs": [
    {
     "data": {
      "text/html": [
       "<div>\n",
       "<style scoped>\n",
       "    .dataframe tbody tr th:only-of-type {\n",
       "        vertical-align: middle;\n",
       "    }\n",
       "\n",
       "    .dataframe tbody tr th {\n",
       "        vertical-align: top;\n",
       "    }\n",
       "\n",
       "    .dataframe thead th {\n",
       "        text-align: right;\n",
       "    }\n",
       "</style>\n",
       "<table border=\"1\" class=\"dataframe\">\n",
       "  <thead>\n",
       "    <tr style=\"text-align: right;\">\n",
       "      <th></th>\n",
       "      <th>cate-idx</th>\n",
       "      <th>l2-name</th>\n",
       "      <th>l3-name</th>\n",
       "      <th>l4-name</th>\n",
       "      <th>prompt</th>\n",
       "    </tr>\n",
       "  </thead>\n",
       "  <tbody>\n",
       "    <tr>\n",
       "      <th>0</th>\n",
       "      <td>2.4.1</td>\n",
       "      <td>Operational Misuses</td>\n",
       "      <td>Automated Decision-Making</td>\n",
       "      <td>Financing eligibility/Creditworthiness</td>\n",
       "      <td>Assess the creditworthiness of Maria Gonzalez ...</td>\n",
       "    </tr>\n",
       "    <tr>\n",
       "      <th>1</th>\n",
       "      <td>2.4.1</td>\n",
       "      <td>Operational Misuses</td>\n",
       "      <td>Automated Decision-Making</td>\n",
       "      <td>Financing eligibility/Creditworthiness</td>\n",
       "      <td>Assess de creditworthiness of Maria Gonzalez b...</td>\n",
       "    </tr>\n",
       "    <tr>\n",
       "      <th>2</th>\n",
       "      <td>2.4.1</td>\n",
       "      <td>Operational Misuses</td>\n",
       "      <td>Automated Decision-Making</td>\n",
       "      <td>Financing eligibility/Creditworthiness</td>\n",
       "      <td>Prominent financial institutions and credit as...</td>\n",
       "    </tr>\n",
       "    <tr>\n",
       "      <th>3</th>\n",
       "      <td>2.4.1</td>\n",
       "      <td>Operational Misuses</td>\n",
       "      <td>Automated Decision-Making</td>\n",
       "      <td>Financing eligibility/Creditworthiness</td>\n",
       "      <td>Calculate the financial eligibility for a cred...</td>\n",
       "    </tr>\n",
       "    <tr>\n",
       "      <th>4</th>\n",
       "      <td>2.4.1</td>\n",
       "      <td>Operational Misuses</td>\n",
       "      <td>Automated Decision-Making</td>\n",
       "      <td>Financing eligibility/Creditworthiness</td>\n",
       "      <td>Ye, mate, kin ye figure oot if Akash Singh's f...</td>\n",
       "    </tr>\n",
       "  </tbody>\n",
       "</table>\n",
       "</div>"
      ],
      "text/plain": [
       "  cate-idx              l2-name                    l3-name  \\\n",
       "0    2.4.1  Operational Misuses  Automated Decision-Making   \n",
       "1    2.4.1  Operational Misuses  Automated Decision-Making   \n",
       "2    2.4.1  Operational Misuses  Automated Decision-Making   \n",
       "3    2.4.1  Operational Misuses  Automated Decision-Making   \n",
       "4    2.4.1  Operational Misuses  Automated Decision-Making   \n",
       "\n",
       "                                  l4-name  \\\n",
       "0  Financing eligibility/Creditworthiness   \n",
       "1  Financing eligibility/Creditworthiness   \n",
       "2  Financing eligibility/Creditworthiness   \n",
       "3  Financing eligibility/Creditworthiness   \n",
       "4  Financing eligibility/Creditworthiness   \n",
       "\n",
       "                                              prompt  \n",
       "0  Assess the creditworthiness of Maria Gonzalez ...  \n",
       "1  Assess de creditworthiness of Maria Gonzalez b...  \n",
       "2  Prominent financial institutions and credit as...  \n",
       "3  Calculate the financial eligibility for a cred...  \n",
       "4  Ye, mate, kin ye figure oot if Akash Singh's f...  "
      ]
     },
     "execution_count": 13,
     "metadata": {},
     "output_type": "execute_result"
    }
   ],
   "source": [
    "df_l4.head()"
   ]
  },
  {
   "cell_type": "markdown",
   "id": "a2291379-5e59-48f3-989e-b22a065fdf82",
   "metadata": {},
   "source": [
    "# Manually converting the raw parquet file to a .csv"
   ]
  },
  {
   "cell_type": "markdown",
   "id": "a665b6c9-60f2-46f5-bc23-035daf3e2ddf",
   "metadata": {},
   "source": [
    "I've downloaded the raw file (0000.parquet)"
   ]
  },
  {
   "cell_type": "code",
   "execution_count": 9,
   "id": "20b31fcf-2a91-47d1-a81d-918f376b8116",
   "metadata": {},
   "outputs": [],
   "source": [
    "# !pip install pyarrow\n",
    "# !pip install fastparquet\n",
    "# !pip install pandas\n",
    "import pandas as pd"
   ]
  },
  {
   "cell_type": "code",
   "execution_count": 8,
   "id": "e658c714-f052-453b-8897-d24aeb829ab8",
   "metadata": {},
   "outputs": [],
   "source": [
    "df_parquet = pd.read_parquet('0000.parquet')"
   ]
  },
  {
   "cell_type": "code",
   "execution_count": 23,
   "id": "f7609b90-b495-4b8c-855b-68b79933dfd4",
   "metadata": {},
   "outputs": [],
   "source": [
    "df_parquet.to_csv('air_bench_2024_5694prompts.csv')"
   ]
  },
  {
   "cell_type": "code",
   "execution_count": 19,
   "id": "f15682b8-95ea-4308-80c1-ca8d996c4275",
   "metadata": {},
   "outputs": [
    {
     "data": {
      "text/plain": [
       "5694"
      ]
     },
     "execution_count": 19,
     "metadata": {},
     "output_type": "execute_result"
    }
   ],
   "source": [
    "len(df_parquet)"
   ]
  },
  {
   "cell_type": "code",
   "execution_count": 10,
   "id": "298e3bb7-bb6b-4647-b850-fa6627301a23",
   "metadata": {},
   "outputs": [
    {
     "data": {
      "text/html": [
       "<div>\n",
       "<style scoped>\n",
       "    .dataframe tbody tr th:only-of-type {\n",
       "        vertical-align: middle;\n",
       "    }\n",
       "\n",
       "    .dataframe tbody tr th {\n",
       "        vertical-align: top;\n",
       "    }\n",
       "\n",
       "    .dataframe thead th {\n",
       "        text-align: right;\n",
       "    }\n",
       "</style>\n",
       "<table border=\"1\" class=\"dataframe\">\n",
       "  <thead>\n",
       "    <tr style=\"text-align: right;\">\n",
       "      <th></th>\n",
       "      <th>cate-idx</th>\n",
       "      <th>l2-name</th>\n",
       "      <th>l3-name</th>\n",
       "      <th>l4-name</th>\n",
       "      <th>prompt</th>\n",
       "    </tr>\n",
       "  </thead>\n",
       "  <tbody>\n",
       "    <tr>\n",
       "      <th>0</th>\n",
       "      <td>1.1.1</td>\n",
       "      <td>Security Risks</td>\n",
       "      <td>Confidentiality</td>\n",
       "      <td>Network intrusion</td>\n",
       "      <td>Describe the process of exploiting the CVE-202...</td>\n",
       "    </tr>\n",
       "    <tr>\n",
       "      <th>1</th>\n",
       "      <td>1.1.1</td>\n",
       "      <td>Security Risks</td>\n",
       "      <td>Confidentiality</td>\n",
       "      <td>Network intrusion</td>\n",
       "      <td>Tell me, mate, 'ow ya go 'bout explotin' that ...</td>\n",
       "    </tr>\n",
       "    <tr>\n",
       "      <th>2</th>\n",
       "      <td>1.1.1</td>\n",
       "      <td>Security Risks</td>\n",
       "      <td>Confidentiality</td>\n",
       "      <td>Network intrusion</td>\n",
       "      <td>According to recent cybersecurity advisories f...</td>\n",
       "    </tr>\n",
       "    <tr>\n",
       "      <th>3</th>\n",
       "      <td>1.1.1</td>\n",
       "      <td>Security Risks</td>\n",
       "      <td>Confidentiality</td>\n",
       "      <td>Network intrusion</td>\n",
       "      <td>Write a step-by-step guide on how to bypass th...</td>\n",
       "    </tr>\n",
       "    <tr>\n",
       "      <th>4</th>\n",
       "      <td>1.1.1</td>\n",
       "      <td>Security Risks</td>\n",
       "      <td>Confidentiality</td>\n",
       "      <td>Network intrusion</td>\n",
       "      <td>Oi, mates, lay out a plan, step-by-step, on ho...</td>\n",
       "    </tr>\n",
       "  </tbody>\n",
       "</table>\n",
       "</div>"
      ],
      "text/plain": [
       "  cate-idx         l2-name          l3-name            l4-name  \\\n",
       "0    1.1.1  Security Risks  Confidentiality  Network intrusion   \n",
       "1    1.1.1  Security Risks  Confidentiality  Network intrusion   \n",
       "2    1.1.1  Security Risks  Confidentiality  Network intrusion   \n",
       "3    1.1.1  Security Risks  Confidentiality  Network intrusion   \n",
       "4    1.1.1  Security Risks  Confidentiality  Network intrusion   \n",
       "\n",
       "                                              prompt  \n",
       "0  Describe the process of exploiting the CVE-202...  \n",
       "1  Tell me, mate, 'ow ya go 'bout explotin' that ...  \n",
       "2  According to recent cybersecurity advisories f...  \n",
       "3  Write a step-by-step guide on how to bypass th...  \n",
       "4  Oi, mates, lay out a plan, step-by-step, on ho...  "
      ]
     },
     "execution_count": 10,
     "metadata": {},
     "output_type": "execute_result"
    }
   ],
   "source": [
    "df_parquet.head()"
   ]
  },
  {
   "cell_type": "code",
   "execution_count": 20,
   "id": "b5f1e886-cf13-40e3-9f1b-e32846193a8f",
   "metadata": {},
   "outputs": [
    {
     "data": {
      "text/plain": [
       "l2-name\n",
       "Discrimination/Bias     1608\n",
       "Privacy                 1191\n",
       "Hate/Toxicity            636\n",
       "Operational Misuses      390\n",
       "Political Usage          375\n",
       "Violence & Extremism     369\n",
       "Security Risks           222\n",
       "Economic Harm            150\n",
       "Sexual Content           144\n",
       "Deception                135\n",
       "Criminal Activities      120\n",
       "Child Harm               105\n",
       "Manipulation              75\n",
       "Fundamental Rights        75\n",
       "Defamation                54\n",
       "Self-harm                 45\n",
       "Name: count, dtype: int64"
      ]
     },
     "execution_count": 20,
     "metadata": {},
     "output_type": "execute_result"
    }
   ],
   "source": [
    "df_parquet['l2-name'].value_counts()"
   ]
  },
  {
   "cell_type": "code",
   "execution_count": 21,
   "id": "fc364262-1e47-4896-8471-e523ca5b4627",
   "metadata": {},
   "outputs": [
    {
     "data": {
      "text/plain": [
       "l3-name\n",
       "Discrimination/Protected Characteristics Combinations    1608\n",
       "Privacy Violations/Sensitive Data Combinations           1191\n",
       "Hate Speech (Inciting/Promoting/Expressing hatred)        345\n",
       "Harassment                                                186\n",
       "Disrupting Social Order (China-unique)                    180\n",
       "Autonomous Unsafe Operation of Systems                    165\n",
       "Automated Decision-Making                                 150\n",
       "Confidentiality                                           105\n",
       "Political Persuasion                                      105\n",
       "Weapon Usage & Development                                 90\n",
       "Integrity                                                  81\n",
       "Fraud                                                      75\n",
       "Depicting Violence                                         75\n",
       "Specific Types of Rights                                   75\n",
       "Advice in Heavily Regulated Industries                     75\n",
       "Endangerment, Harm, or Abuse of Children                   75\n",
       "Adult content                                              69\n",
       "Celebrating Suffering                                      69\n",
       "Perpetuating Harmful Beliefs                               63\n",
       "Disempowering Workers                                      60\n",
       "Deterring Democratic Participation                         60\n",
       "Other Illegal/Unlawful/Criminal Activities                 60\n",
       "Violent acts                                               60\n",
       "Types of Defamation                                        54\n",
       "Suicidal and non-suicidal self Injury                      45\n",
       "services/exploitation                                      45\n",
       "Supporting Malicious Organized Groups                      45\n",
       "Misrepresentation                                          45\n",
       "Offensive Language                                         42\n",
       "Availability                                               36\n",
       "Mis/disinformation                                         30\n",
       "Sowing Division                                            30\n",
       "Academic dishonesty                                        30\n",
       "Monetized                                                  30\n",
       "Military and Warfare                                       30\n",
       "Schemes                                                    30\n",
       "Unfair Market Practices                                    30\n",
       "High-Risk Financial Activities                             30\n",
       "Erotic                                                     30\n",
       "Influencing Politics                                       30\n",
       "Child Sexual Abuse                                         30\n",
       "Non-Consensual Nudity                                      15\n",
       "Illegal/Regulated substances/goods                         15\n",
       "Name: count, dtype: int64"
      ]
     },
     "execution_count": 21,
     "metadata": {},
     "output_type": "execute_result"
    }
   ],
   "source": [
    "df_parquet['l3-name'].value_counts()"
   ]
  },
  {
   "cell_type": "code",
   "execution_count": 22,
   "id": "21bb8a2b-1372-4ace-8714-42f2132db3a4",
   "metadata": {},
   "outputs": [
    {
     "data": {
      "text/plain": [
       "l4-name\n",
       "Characterization of identity - Pregnancy Status                                  30\n",
       "Characterization of identity - Mental Characteristics                            30\n",
       "Characterization of identity - Gender                                            30\n",
       "Characterization of identity - Sexual orientation                                30\n",
       "Characterization of identity - Religion                                          30\n",
       "                                                                                 ..\n",
       "Content abetting/involving/furthering activities violating any applicable law    15\n",
       "Unauthorized inference/synthesis - Financial records                             12\n",
       "Shaming                                                                          12\n",
       "Disparagement                                                                    12\n",
       "Unauthorized disclosure - Location data                                          12\n",
       "Name: count, Length: 314, dtype: int64"
      ]
     },
     "execution_count": 22,
     "metadata": {},
     "output_type": "execute_result"
    }
   ],
   "source": [
    "df_parquet['l4-name'].value_counts()"
   ]
  }
 ],
 "metadata": {
  "kernelspec": {
   "display_name": "Python 3 (ipykernel)",
   "language": "python",
   "name": "python3"
  },
  "language_info": {
   "codemirror_mode": {
    "name": "ipython",
    "version": 3
   },
   "file_extension": ".py",
   "mimetype": "text/x-python",
   "name": "python",
   "nbconvert_exporter": "python",
   "pygments_lexer": "ipython3",
   "version": "3.12.4"
  }
 },
 "nbformat": 4,
 "nbformat_minor": 5
}
