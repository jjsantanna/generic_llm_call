{
 "cells": [
  {
   "cell_type": "markdown",
   "id": "8222fecc-8a9b-4694-84aa-cf55360e5a99",
   "metadata": {},
   "source": [
    "# Crawl4ai"
   ]
  },
  {
   "cell_type": "code",
   "execution_count": 70,
   "id": "50674b7d-76e7-4061-89e9-2dd50751255b",
   "metadata": {},
   "outputs": [],
   "source": [
    "# !pip install crawl4ai\n",
    "# !crawl4ai-setup"
   ]
  },
  {
   "cell_type": "markdown",
   "id": "1521ce54-9a17-470f-a6c3-e69b6fbdce2b",
   "metadata": {},
   "source": [
    "## Crawling a single url"
   ]
  },
  {
   "cell_type": "code",
   "execution_count": 71,
   "id": "14dc7a1e-c833-4f3a-b6c9-cd561c218550",
   "metadata": {},
   "outputs": [],
   "source": [
    "import asyncio\n",
    "from crawl4ai import AsyncWebCrawler, BrowserConfig, CrawlerRunConfig, CacheMode\n",
    "\n",
    "async def crawl4ai_crawl(url: str):\n",
    "    browser_conf = BrowserConfig(headless=True)  # Run in headless mode\n",
    "    run_conf = CrawlerRunConfig(cache_mode=CacheMode.BYPASS)\n",
    "\n",
    "    async with AsyncWebCrawler(config=browser_conf) as crawler:\n",
    "        result = await crawler.arun(url=url, config=run_conf)\n",
    "\n",
    "        if result.success:\n",
    "            return result.markdown_v2.raw_markdown  # Return extracted content\n",
    "        else:\n",
    "            return f\"Error: {result.error_message}\"  # Handle errors gracefully"
   ]
  },
  {
   "cell_type": "code",
   "execution_count": 72,
   "id": "8d460ee2-3547-4bbd-ac83-222584fbcff2",
   "metadata": {},
   "outputs": [
    {
     "name": "stdout",
     "output_type": "stream",
     "text": [
      "[INIT].... → Crawl4AI 0.4.248\n",
      "[FETCH]... ↓ https://www.utwente.nl/en/eemcs/dacs/news/2025/1/9... | Status: True | Time: 0.58s\n",
      "[SCRAPE].. ◆ Processed https://www.utwente.nl/en/eemcs/dacs/news/2025/1/9... | Time: 11ms\n",
      "[COMPLETE] ● https://www.utwente.nl/en/eemcs/dacs/news/2025/1/9... | Status: True | Total: 0.60s\n"
     ]
    }
   ],
   "source": [
    "url_to_crawl = \"https://www.utwente.nl/en/eemcs/dacs/news/2025/1/98282/jair-santanna-appointed-to-europols-european-cybercrime-centre-advisory-board\"\n",
    "crawled_text = asyncio.run(crawl4ai_crawl(url_to_crawl))\n",
    "\n",
    "# print(crawled_text)"
   ]
  },
  {
   "cell_type": "markdown",
   "id": "9d8ec864-f977-46c9-a819-f9640592c595",
   "metadata": {},
   "source": [
    "## Crawl in parallel!"
   ]
  },
  {
   "cell_type": "code",
   "execution_count": 73,
   "id": "7f84b9ab-83e4-42d0-892d-29cf3a66a4c5",
   "metadata": {},
   "outputs": [],
   "source": [
    "import asyncio\n",
    "from crawl4ai import AsyncWebCrawler, CrawlerRunConfig, CacheMode\n",
    "\n",
    "async def crawl4ai_parallel(urls: list[str]):\n",
    "    \"\"\"Crawls multiple URLs in parallel and returns a dictionary of results.\"\"\"\n",
    "    \n",
    "    run_conf = CrawlerRunConfig(\n",
    "        cache_mode=CacheMode.BYPASS,\n",
    "        stream=False  # Get all results at once\n",
    "    )\n",
    "\n",
    "    async with AsyncWebCrawler() as crawler:\n",
    "        results = await crawler.arun_many(urls, config=run_conf)\n",
    "        \n",
    "        crawled_data = {}  # Dictionary to store results\n",
    "        \n",
    "        for res in results:\n",
    "            if res.success:\n",
    "                crawled_data[res.url] = res.markdown_v2.raw_markdown\n",
    "            else:\n",
    "                crawled_data[res.url] = f\"Error: {res.error_message}\"  # Store error message\n",
    "\n",
    "        return crawled_data  # Return the crawled content"
   ]
  },
  {
   "cell_type": "code",
   "execution_count": 74,
   "id": "c74d01b8-3fde-4d5b-bcc3-b23194d6a679",
   "metadata": {},
   "outputs": [
    {
     "name": "stdout",
     "output_type": "stream",
     "text": [
      "[INIT].... → Crawl4AI 0.4.248\n",
      "[FETCH]... ↓ https://www.utwente.nl/en/eemcs/dacs/news/2025/1/9... | Status: True | Time: 0.63s\n",
      "[SCRAPE].. ◆ Processed https://www.utwente.nl/en/eemcs/dacs/news/2025/1/9... | Time: 11ms\n",
      "[COMPLETE] ● https://www.utwente.nl/en/eemcs/dacs/news/2025/1/9... | Status: True | Total: 0.65s\n",
      "[FETCH]... ↓ https://isaca.nl/people/jair-santanna/... | Status: True | Time: 0.79s\n",
      "[SCRAPE].. ◆ Processed https://isaca.nl/people/jair-santanna/... | Time: 32ms\n",
      "[COMPLETE] ● https://isaca.nl/people/jair-santanna/... | Status: True | Total: 0.83s\n",
      "[FETCH]... ↓ https://scholar.google.com/citations?user=TxcQNxUA... | Status: True | Time: 0.85s\n",
      "[SCRAPE].. ◆ Processed https://scholar.google.com/citations?user=TxcQNxUA... | Time: 19ms\n",
      "[COMPLETE] ● https://scholar.google.com/citations?user=TxcQNxUA... | Status: True | Total: 0.88s\n"
     ]
    }
   ],
   "source": [
    "urls_to_crawl = [\n",
    "    \"https://www.utwente.nl/en/eemcs/dacs/news/2025/1/98282/jair-santanna-appointed-to-europols-european-cybercrime-centre-advisory-board\",\n",
    "    \"https://isaca.nl/people/jair-santanna/\",\n",
    "    \"https://scholar.google.com/citations?user=TxcQNxUAAAAJ&hl=en\"\n",
    "]\n",
    "\n",
    "crawled_results = asyncio.run(crawl4ai_parallel(urls_to_crawl))"
   ]
  },
  {
   "cell_type": "code",
   "execution_count": 76,
   "id": "390e7d1b-2fe7-41ab-9b2c-c1c6ea8e8765",
   "metadata": {},
   "outputs": [],
   "source": [
    "# print(crawled_results)"
   ]
  }
 ],
 "metadata": {
  "kernelspec": {
   "display_name": "Python 3 (ipykernel)",
   "language": "python",
   "name": "python3"
  },
  "language_info": {
   "codemirror_mode": {
    "name": "ipython",
    "version": 3
   },
   "file_extension": ".py",
   "mimetype": "text/x-python",
   "name": "python",
   "nbconvert_exporter": "python",
   "pygments_lexer": "ipython3",
   "version": "3.13.1"
  }
 },
 "nbformat": 4,
 "nbformat_minor": 5
}
